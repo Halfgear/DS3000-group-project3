{
 "cells": [
  {
   "cell_type": "markdown",
   "metadata": {},
   "source": [
    "# DS 3000 - Practicum 3\n",
    "\n",
    "**Student Name**: Noelle Marcel, HwiJoon Lee, Hazem Algendy, Shreyashi Kalakuntla\n",
    "\n",
    "**Date**: 04-01-2025"
   ]
  },
  {
   "cell_type": "markdown",
   "metadata": {},
   "source": [
    "## Selected data set\n",
    "The dataset that you will work with is called CDC Diabetes Health IndicatorsLinks to an external site. that was obtained from the Behavioral Risk Factor Surveillance System (BRFSS) which is publicly available on the CDC's websiteLinks to an external site.. The purpose of BRFSS is to collect data on various health-related factors. The CDC estimates that millions of Americans are either unaware that they have diabetes or are at risk i.e. they are pre-diabetic. There are many factors that influence the prevalence of diabetes, such as age, location, race, and other social determinants of healthLinks to an external site.. Your objective is to classify the target variable, which indicates whether a patient is diabetic, pre-diabetic, or healthy.\n",
    "Data: diabetes_012_health_indicators_BRFSS2015.csvDownload diabetes_012_health_indicators_BRFSS2015.csv\n",
    "Data dictionary: https://archive.ics.uci.edu/dataset/891/cdc+diabetes+health+indicatorsLinks to an external site.\n",
    "Note: the dataset has three classes: diabetic, pre-diabetic and no diabetes.\n",
    " "
   ]
  },
  {
   "cell_type": "markdown",
   "metadata": {},
   "source": [
    "## Question 1: \n",
    "\n",
    "In your own words, formulate the Data Science problem.\n"
   ]
  },
  {
   "cell_type": "markdown",
   "metadata": {},
   "source": [
    "Using health indicator data collected from the CDC, the objective is to develop a classification model that can predict a patient's diabetic status. This project addresses a critical public health concern, as the CDC estimates that millions of Americans are either unaware of their diabetic condition. The core challenge is to build a predictive model that analyzes various features including age, location, race, and other social determinants of health to accurately classify an individual's diabetic status. This model would serve as a valuable tool for early intervention and risk assessment in diabetes prevention and management."
   ]
  },
  {
   "cell_type": "markdown",
   "metadata": {},
   "source": [
    "## Question 2: Prepare the Data (5 pts)\n",
    "Evaluate the dataset to determine if ALL variables are represented in their expected type. Convert variables to suitable data types for ML modeling. This means that you need to identify categorical data, discrete and continuous variables represent them accordingly.\n",
    "Analyze the data to determine what preprocessing steps are needed to ensure that the following are handled: 1. missing values, 2. invalid values, 3. outliers. Perform the required data preparation steps and justify the approach that is taken to prepare the data for analysis. \n"
   ]
  },
  {
   "cell_type": "code",
   "execution_count": 1,
   "metadata": {},
   "outputs": [],
   "source": [
    "import pandas as pd\n",
    "import numpy as np\n",
    "import matplotlib.pyplot as plt\n",
    "import seaborn as sns"
   ]
  },
  {
   "cell_type": "code",
   "execution_count": 2,
   "metadata": {},
   "outputs": [
    {
     "name": "stdout",
     "output_type": "stream",
     "text": [
      "Data shape: (253680, 22)\n",
      "Diabetes_012            0\n",
      "HighBP                  0\n",
      "HighChol                0\n",
      "CholCheck               0\n",
      "BMI                     0\n",
      "Smoker                  0\n",
      "Stroke                  0\n",
      "HeartDiseaseorAttack    0\n",
      "PhysActivity            0\n",
      "Fruits                  0\n",
      "Veggies                 0\n",
      "HvyAlcoholConsump       0\n",
      "AnyHealthcare           0\n",
      "NoDocbcCost             0\n",
      "GenHlth                 0\n",
      "MentHlth                0\n",
      "PhysHlth                0\n",
      "DiffWalk                0\n",
      "Sex                     0\n",
      "Age                     0\n",
      "Education               0\n",
      "Income                  0\n",
      "dtype: int64\n"
     ]
    }
   ],
   "source": [
    "df = pd.read_csv('diabetes_012_health_indicators_BRFSS2015.csv')\n",
    "\n",
    "# Basic data exploration\n",
    "print(\"Data shape:\", df.shape)\n",
    "print(df.isnull().sum())\n",
    "\n",
    "binary_vars = ['Diabetes_012', 'HighBP', 'HighChol', 'CholCheck', 'Smoker', \n",
    "               'Stroke', 'HeartDiseaseorAttack', 'PhysActivity', 'Fruits', 'Veggies',\n",
    "               'HvyAlcoholConsump', 'AnyHealthcare', 'NoDocbcCost', 'DiffWalk', 'Sex']\n",
    "\n",
    "ordinal_vars = ['GenHlth', 'Age', 'Education', 'Income']\n",
    "\n",
    "continuous_vars = ['BMI', 'MentHlth', 'PhysHlth'] "
   ]
  },
  {
   "cell_type": "markdown",
   "metadata": {},
   "source": [
    "### No Null data found"
   ]
  },
  {
   "cell_type": "code",
   "execution_count": 3,
   "metadata": {},
   "outputs": [
    {
     "name": "stdout",
     "output_type": "stream",
     "text": [
      "Min/Max values:\n",
      "                       min   max\n",
      "Diabetes_012           0.0   2.0\n",
      "HighBP                 0.0   1.0\n",
      "HighChol               0.0   1.0\n",
      "CholCheck              0.0   1.0\n",
      "BMI                   12.0  98.0\n",
      "Smoker                 0.0   1.0\n",
      "Stroke                 0.0   1.0\n",
      "HeartDiseaseorAttack   0.0   1.0\n",
      "PhysActivity           0.0   1.0\n",
      "Fruits                 0.0   1.0\n",
      "Veggies                0.0   1.0\n",
      "HvyAlcoholConsump      0.0   1.0\n",
      "AnyHealthcare          0.0   1.0\n",
      "NoDocbcCost            0.0   1.0\n",
      "GenHlth                1.0   5.0\n",
      "MentHlth               0.0  30.0\n",
      "PhysHlth               0.0  30.0\n",
      "DiffWalk               0.0   1.0\n",
      "Sex                    0.0   1.0\n",
      "Age                    1.0  13.0\n",
      "Education              1.0   6.0\n",
      "Income                 1.0   8.0\n"
     ]
    }
   ],
   "source": [
    "print(\"Min/Max values:\")\n",
    "print(df.describe().loc[['min', 'max']].T)"
   ]
  },
  {
   "cell_type": "markdown",
   "metadata": {},
   "source": [
    "### While there are some extreme values in the dataset (such as BMI of 98), all variables appear to remain within their valid definitional ranges. These statistical outliers represent legitimate data points rather than errors requiring correction."
   ]
  },
  {
   "cell_type": "code",
   "execution_count": 9,
   "metadata": {},
   "outputs": [
    {
     "name": "stdout",
     "output_type": "stream",
     "text": [
      "Diabetes_012            category\n",
      "HighBP                  category\n",
      "HighChol                category\n",
      "CholCheck               category\n",
      "BMI                        int64\n",
      "Smoker                  category\n",
      "Stroke                  category\n",
      "HeartDiseaseorAttack    category\n",
      "PhysActivity            category\n",
      "Fruits                  category\n",
      "Veggies                 category\n",
      "HvyAlcoholConsump       category\n",
      "AnyHealthcare           category\n",
      "NoDocbcCost             category\n",
      "GenHlth                 category\n",
      "MentHlth                   int64\n",
      "PhysHlth                   int64\n",
      "DiffWalk                category\n",
      "Sex                     category\n",
      "Age                     category\n",
      "Education               category\n",
      "Income                  category\n",
      "dtype: object\n"
     ]
    }
   ],
   "source": [
    "# convert related variables to categorical\n",
    "for var in binary_vars + ordinal_vars:\n",
    "    df[var] = df[var].astype('category')\n",
    "\n",
    "for var in continuous_vars:\n",
    "    df[var] = df[var].astype('int')\n",
    "\n",
    "# display the data types of the variables\n",
    "print(df.dtypes)"
   ]
  },
  {
   "cell_type": "markdown",
   "metadata": {},
   "source": [
    "## Question 3:(20 points)\n",
    "Perform exploratory data analysis. Ensure that you analyze the relationships between the various features and the diabetic outcomes. Create visualizations to demonstrate your findings and explain the results. This is a 20pt question and requires detailed analyses and visualizations."
   ]
  },
  {
   "cell_type": "code",
   "execution_count": 10,
   "metadata": {},
   "outputs": [
    {
     "data": {
      "image/png": "[encoded data removed]",
      "text/plain": [
       "<Figure size 1500x500 with 3 Axes>"
      ]
     },
     "metadata": {},
     "output_type": "display_data"
    }
   ],
   "source": [
    "# Visualize distributions of continuous variables\n",
    "plt.figure(figsize=(15, 5))\n",
    "for i, col in enumerate(continuous_vars):\n",
    "    plt.subplot(1, 3, i+1)\n",
    "    sns.histplot(df[col], kde=True)\n",
    "    plt.title(f'{col} Distribution')\n",
    "plt.tight_layout()\n",
    "plt.show()"
   ]
  },
  {
   "cell_type": "markdown",
   "metadata": {},
   "source": [
    "## Question 4a:  (20 points)\n",
    "Perform significance tests to determine if the patterns that are detected above are statistically significant. Ensure that you discuss at least three patterns and the respective p-values.\n",
    "Select the features that will be used in the ML models (i.e. your selected features should be based on analytical reasoning that demonstrates their utility for ML modeling. Do not arbitrarily select features.\n",
    "Note: if you are using correlations, ensure that this is only performed using continuous variables."
   ]
  },
  {
   "cell_type": "code",
   "execution_count": null,
   "metadata": {},
   "outputs": [],
   "source": []
  },
  {
   "cell_type": "markdown",
   "metadata": {},
   "source": [
    "## Question 4b: (10 points)\n",
    "This is an optional challenge question. Its purpose is to identify new features that can be included in the ML modeling below.\n",
    "\n",
    "Perform ONE of the following\n",
    "(1) Feature engineering: Machine learning models can benefit from feature engineering. Create a new feature that can be included in the model and perform significance testing to determine if it's statistically significant. Explain the results and justify if the feature will be included in the ML model. If you decide that you will not include the new feature in the ML model, explain the reasons.\n",
    "OR\n",
    "(2) Statistical tests: Research a new type of statistical test that was not introduced in this course and write python code to demonstrate at least two significance tests between features in the dataset. Explain the test, the results and justify if the feature will be included in the ML model. If you decide that you will not include the analyzed feature(s) in the ML model, explain the reasons. Note: you are welcome to use libraries to perform the tests."
   ]
  },
  {
   "cell_type": "code",
   "execution_count": null,
   "metadata": {},
   "outputs": [],
   "source": []
  },
  {
   "cell_type": "markdown",
   "metadata": {},
   "source": [
    "## Question 5: (5 points)\n",
    "\n",
    "Partition the data into train/test sets. After which, perform the following:\n",
    "encode any categorical data. Ensure that categorical variables are represented correctly.\n",
    "normalize numeric data.\n",
    "Tip: Ensure that you use sklearn to normalize and/or encode the training data, after which transform the test set (there is an example in the lecture)."
   ]
  },
  {
   "cell_type": "code",
   "execution_count": null,
   "metadata": {},
   "outputs": [],
   "source": []
  },
  {
   "cell_type": "markdown",
   "metadata": {},
   "source": [
    "## Question 6: (30 points)\n",
    "\n",
    "Build the ML model that predicts the target variable based on the selected features. Ensure that you:\n",
    "Demonstrate the training, evaluation and tuning for at least three algorithms that can handle non linear data and multiple input features/variables. NOTE: you can only select one tree-based algorithm and you must select multiple input features for the ML modeling.\n",
    "Use GridSearchCV to tune at least two hyperparameters for each algorithm.\n",
    "Note: do not change the input features in your experiments."
   ]
  },
  {
   "cell_type": "code",
   "execution_count": null,
   "metadata": {},
   "outputs": [],
   "source": []
  },
  {
   "cell_type": "markdown",
   "metadata": {},
   "source": [
    "## Question 7: (15 points)\n",
    "\n",
    "Analyze the evaluated models. For each algorithm, ensure that you:\n",
    "Display: 1) the best model and 2) the best score that was obtained.\n",
    "Evaluate the scores from GridSearchCV for the training set and the test set to diagnose any bias-variance problems. Comment on the quality of the model.\n",
    "NOTE: seeing that you are analyzing healthcare data, ensure that you discuss what is the desired metric to evaluate the results based on the machine learning task e.g. accuracy, precision, recall, f1-score, MSE, R2, etc."
   ]
  },
  {
   "cell_type": "code",
   "execution_count": null,
   "metadata": {},
   "outputs": [],
   "source": []
  },
  {
   "cell_type": "markdown",
   "metadata": {},
   "source": [
    "## Question 8: (5 points)\n",
    "\n",
    "Discuss the potential impacts of your solution. Who will benefit from (and/or who will be affected by) your solution and why.\n",
    "Were there any concerns of bias in the ML modeling seeing that you were analyzing sensitive data? Create visualizations to share any analysis of bias in the training data and/or the predictions from the model. For example: you can compare and contrast the predictions for specific groups to demonstrate your findings. Provide recommendations on techniques to address any issues that were found.\n",
    "Note: you are welcome to use libraries to perform the analysis."
   ]
  },
  {
   "cell_type": "code",
   "execution_count": null,
   "metadata": {},
   "outputs": [],
   "source": []
  }
 ],
 "metadata": {
  "kernelspec": {
   "display_name": "Python 3",
   "language": "python",
   "name": "python3"
  },
  "language_info": {
   "codemirror_mode": {
    "name": "ipython",
    "version": 3
   },
   "file_extension": ".py",
   "mimetype": "text/x-python",
   "name": "python",
   "nbconvert_exporter": "python",
   "pygments_lexer": "ipython3",
   "version": "3.13.2"
  }
 },
 "nbformat": 4,
 "nbformat_minor": 4
}
